{
 "cells": [
  {
   "cell_type": "code",
   "execution_count": 8,
   "id": "d1007a83",
   "metadata": {},
   "outputs": [
    {
     "name": "stdout",
     "output_type": "stream",
     "text": [
      "[[1 2 3]\n",
      " [5 6 7]]\n",
      "[[4 7 9]\n",
      " [3 0 8]\n",
      " [1 4 9]]\n"
     ]
    }
   ],
   "source": [
    "import numpy as np\n",
    "m1=np.array([[1,2,3],[5,6,7]])\n",
    "print(m1)\n",
    "m2=np.array([[4,7,9],[3,0,8],[1,4,9]])\n",
    "print(m2)\n",
    "\n",
    "\n"
   ]
  },
  {
   "cell_type": "code",
   "execution_count": 7,
   "id": "192fb8f2",
   "metadata": {},
   "outputs": [
    {
     "name": "stdout",
     "output_type": "stream",
     "text": [
      "[[ 13  19  52]\n",
      " [ 45  63 156]]\n"
     ]
    }
   ],
   "source": [
    "c=np.dot(m1,m2)\n",
    "print(c)"
   ]
  },
  {
   "cell_type": "code",
   "execution_count": 2,
   "id": "28865ef6",
   "metadata": {},
   "outputs": [
    {
     "ename": "NameError",
     "evalue": "name 'np' is not defined",
     "output_type": "error",
     "traceback": [
      "\u001b[1;31m---------------------------------------------------------------------------\u001b[0m",
      "\u001b[1;31mNameError\u001b[0m                                 Traceback (most recent call last)",
      "Cell \u001b[1;32mIn[2], line 1\u001b[0m\n\u001b[1;32m----> 1\u001b[0m t1\u001b[38;5;241m=\u001b[39mnp\u001b[38;5;241m.\u001b[39mtranspose(m1)\n\u001b[0;32m      2\u001b[0m t2\u001b[38;5;241m=\u001b[39mnp\u001b[38;5;241m.\u001b[39mtranspose(m2)\n\u001b[0;32m      3\u001b[0m \u001b[38;5;28mprint\u001b[39m(t1)\n",
      "\u001b[1;31mNameError\u001b[0m: name 'np' is not defined"
     ]
    }
   ],
   "source": [
    "t1=np.transpose(m1)\n",
    "t2=np.transpose(m2)\n",
    "print(t1)\n",
    "print(t2)\n",
    "\n"
   ]
  },
  {
   "cell_type": "code",
   "execution_count": 10,
   "id": "18a06b35",
   "metadata": {},
   "outputs": [
    {
     "name": "stdout",
     "output_type": "stream",
     "text": [
      "[1 2 3 5 6 7]\n"
     ]
    }
   ],
   "source": [
    "print(m1.flatten())"
   ]
  },
  {
   "cell_type": "code",
   "execution_count": 11,
   "id": "f2d54f43",
   "metadata": {},
   "outputs": [
    {
     "name": "stdout",
     "output_type": "stream",
     "text": [
      "4\n",
      "5\n",
      "6\n",
      "7\n",
      "[[4, 5], [6, 7]]\n"
     ]
    }
   ],
   "source": [
    "mtr=[]\n",
    "for i in range (2) :\n",
    "    row=[]\n",
    "    for j in range (2) :\n",
    "        a=int(input())\n",
    "        row.append(a)\n",
    "    mtr.append(row)\n",
    "print(mtr)"
   ]
  },
  {
   "cell_type": "code",
   "execution_count": 16,
   "id": "5ebda25e",
   "metadata": {},
   "outputs": [
    {
     "name": "stdout",
     "output_type": "stream",
     "text": [
      "entrer the rowsize : 3\n",
      "enter the column size : 2\n",
      "4\n",
      "5\n",
      "6\n",
      "7\n",
      "8\n",
      "9\n",
      "[[4, 5], [6, 7], [8, 9]]\n"
     ]
    }
   ],
   "source": [
    "r=int(input(\"entrer the rowsize : \"))\n",
    "c=int(input(\"enter the column size : \"))\n",
    "m=[]\n",
    "for i in range (r) :\n",
    "    row=[]\n",
    "    for j in range (c) :\n",
    "        a=int(input())\n",
    "        row.append(a)\n",
    "    m.append(row)\n",
    "print(m)"
   ]
  },
  {
   "cell_type": "code",
   "execution_count": 7,
   "id": "71e0d2b3",
   "metadata": {},
   "outputs": [
    {
     "name": "stdout",
     "output_type": "stream",
     "text": [
      "entrer the rowsize : 2\n",
      "enter the column size : 2\n",
      "1 2 3 4\n",
      "[[1 2]\n",
      " [3 4]]\n"
     ]
    }
   ],
   "source": [
    "r=int(input(\"entrer the rowsize : \"))\n",
    "c=int(input(\"enter the column size : \"))\n",
    "a=list(map(int,input().split()))\n",
    "mt=np.array(a).reshape(r,c)\n",
    "print(mt)"
   ]
  },
  {
   "cell_type": "code",
   "execution_count": 8,
   "id": "46f964b5",
   "metadata": {},
   "outputs": [
    {
     "name": "stdout",
     "output_type": "stream",
     "text": [
      "[[-2.   1. ]\n",
      " [ 1.5 -0.5]]\n"
     ]
    }
   ],
   "source": [
    "import numpy as np\n",
    "b=np.linalg.inv(mt)\n",
    "print(b)"
   ]
  },
  {
   "cell_type": "code",
   "execution_count": 9,
   "id": "b101107f",
   "metadata": {},
   "outputs": [
    {
     "name": "stdout",
     "output_type": "stream",
     "text": [
      "-2.0000000000000004\n"
     ]
    }
   ],
   "source": [
    "r=np.linalg.det(mt)\n",
    "print(r)"
   ]
  },
  {
   "cell_type": "code",
   "execution_count": 10,
   "id": "6d9d1df1",
   "metadata": {},
   "outputs": [
    {
     "name": "stdout",
     "output_type": "stream",
     "text": [
      "5\n"
     ]
    }
   ],
   "source": [
    "print(mt.trace())"
   ]
  },
  {
   "cell_type": "code",
   "execution_count": 11,
   "id": "8a6abfde",
   "metadata": {},
   "outputs": [
    {
     "name": "stdout",
     "output_type": "stream",
     "text": [
      "2\n"
     ]
    }
   ],
   "source": [
    "print(np.linalg.matrix_rank(mt))"
   ]
  },
  {
   "cell_type": "code",
   "execution_count": 12,
   "id": "18bc38d0",
   "metadata": {},
   "outputs": [
    {
     "name": "stdout",
     "output_type": "stream",
     "text": [
      "(array([-0.37228132,  5.37228132]), array([[-0.82456484, -0.41597356],\n",
      "       [ 0.56576746, -0.90937671]]))\n"
     ]
    }
   ],
   "source": [
    "print(np.linalg.eig(mt))"
   ]
  },
  {
   "cell_type": "code",
   "execution_count": null,
   "id": "ffb69b64",
   "metadata": {},
   "outputs": [],
   "source": []
  }
 ],
 "metadata": {
  "kernelspec": {
   "display_name": "Python 3 (ipykernel)",
   "language": "python",
   "name": "python3"
  },
  "language_info": {
   "codemirror_mode": {
    "name": "ipython",
    "version": 3
   },
   "file_extension": ".py",
   "mimetype": "text/x-python",
   "name": "python",
   "nbconvert_exporter": "python",
   "pygments_lexer": "ipython3",
   "version": "3.11.5"
  }
 },
 "nbformat": 4,
 "nbformat_minor": 5
}
