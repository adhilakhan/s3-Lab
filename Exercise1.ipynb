{
 "cells": [
  {
   "cell_type": "code",
   "execution_count": 3,
   "id": "2a2f6c7c",
   "metadata": {},
   "outputs": [
    {
     "name": "stdout",
     "output_type": "stream",
     "text": [
      "[ 0  1  2  3  4  5  6  7  8  9 10 11 12 13 14 15 16 17 18 19 20]\n",
      "[  0   1   2   3   4   5   6   7   8  -9 -10 -11 -12 -13 -14 -15  16  17\n",
      "  18  19  20]\n"
     ]
    }
   ],
   "source": [
    "import numpy as np\n",
    "a=[]\n",
    "for i in range (21):\n",
    "    a.append(i)\n",
    "vector=np.array(a)\n",
    "print(vector)\n",
    "vector=np.where(((vector>=9) & (vector<=15)),-vector,vector)\n",
    "print (vector)"
   ]
  },
  {
   "cell_type": "code",
   "execution_count": 9,
   "id": "9ab13c43",
   "metadata": {},
   "outputs": [
    {
     "name": "stdout",
     "output_type": "stream",
     "text": [
      "entrer the rowsize : 3\n",
      "enter the column size : 3\n",
      "1\n",
      "2\n",
      "3\n",
      "4\n",
      "5\n",
      "6\n",
      "7\n",
      "8\n",
      "9\n",
      "[[1, 2, 3], [4, 5, 6], [7, 8, 9]]\n",
      "Sum =  45\n",
      "Row Sum =  [ 6 15 24]\n",
      "Column Sum =  [12 15 18]\n"
     ]
    }
   ],
   "source": [
    "r=int(input(\"entrer the rowsize : \"))\n",
    "c=int(input(\"enter the column size : \"))\n",
    "m=[]\n",
    "for i in range (r) :\n",
    "    row=[]\n",
    "    for j in range (c) :\n",
    "        a=int(input())\n",
    "        row.append(a)\n",
    "    m.append(row)\n",
    "print(m)\n",
    "sum=np.sum(m)\n",
    "print(\"Sum = \",sum)\n",
    "rowsum=np.sum(m,1)\n",
    "print(\"Row Sum = \",rowsum)\n",
    "colsum=np.sum(m,0)\n",
    "print(\"Column Sum = \",colsum)"
   ]
  },
  {
   "cell_type": "code",
   "execution_count": 11,
   "id": "601f8685",
   "metadata": {},
   "outputs": [
    {
     "name": "stdout",
     "output_type": "stream",
     "text": [
      "entrer the rowsize : 3\n",
      "enter the column size : 3\n",
      "3\n",
      "4\n",
      "5\n",
      "6\n",
      "7\n",
      "8\n",
      "9\n",
      "7\n",
      "55\n",
      "[[3, 4, 5], [6, 7, 8], [9, 7, 55]]\n",
      "[[ 3  4  5]\n",
      " [ 6  7  8]\n",
      " [ 9  7 55]]\n"
     ]
    }
   ],
   "source": [
    "r=int(input(\"entrer the rowsize : \"))\n",
    "c=int(input(\"enter the column size : \"))\n",
    "m=[]\n",
    "for i in range (r) :\n",
    "    row=[]\n",
    "    for j in range (c) :\n",
    "        a=int(input())\n",
    "        row.append(a)\n",
    "    m.append(row)\n",
    "print(m)\n",
    "np.savetxt('array.txt',m,fmt='%d')\n",
    "loadarray=np.loadtxt('array.txt',int)\n",
    "print(loadarray)"
   ]
  },
  {
   "cell_type": "markdown",
   "id": "9768670c",
   "metadata": {},
   "source": [
    "r=int(input(\"enter the rowsize : \"))\n",
    "c=int(input(\"enter the column size : \"))\n",
    "m=[]\n",
    "for i in range (r) :\n",
    "    row=[]\n",
    "    for j in range (c) :\n",
    "        a=int(input())\n",
    "        row.append(a)\n",
    "    m.append(row)\n",
    "print(m)\n",
    "ro=int(input(\"entrer the rowsize : \"))\n",
    "co=int(input(\"enter the column size : \"))\n",
    "mat=[]\n",
    "for i in range (r) :\n",
    "    row=[]\n",
    "    for j in range (c) :\n",
    "        b=int(input())\n",
    "        row.append(a)\n",
    "    mat.append(row)\n",
    "print(mat)"
   ]
  },
  {
   "cell_type": "code",
   "execution_count": 13,
   "id": "26c42c84",
   "metadata": {},
   "outputs": [
    {
     "name": "stdout",
     "output_type": "stream",
     "text": [
      "entrer the rowsize : 2\n",
      "enter the column size : 2\n",
      "1\n",
      "2\n",
      "3\n",
      "4\n",
      "[[1, 2], [3, 4]]\n",
      "entrer the rowsize : 2\n",
      "enter the column size : 2\n",
      "5\n",
      "6\n",
      "7\n",
      "8\n",
      "[[5, 6], [7, 8]]\n",
      "[[False False]\n",
      " [False False]]\n"
     ]
    }
   ],
   "source": [
    "r=int(input(\"entrer the rowsize : \"))\n",
    "c=int(input(\"enter the column size : \"))\n",
    "m=[]\n",
    "for i in range (r) :\n",
    "    row=[]\n",
    "    for j in range (c) :\n",
    "        a=int(input())\n",
    "        row.append(a)\n",
    "    m.append(row)\n",
    "print(m)\n",
    "ro=int(input(\"entrer the rowsize : \"))\n",
    "co=int(input(\"enter the column size : \"))\n",
    "mat=[]\n",
    "for i in range (r) :\n",
    "    row=[]\n",
    "    for j in range (c) :\n",
    "        b=int(input())\n",
    "        row.append(b)\n",
    "    mat.append(row)\n",
    "print(mat)\n",
    "c=np.equal(m,mat)\n",
    "print(c)"
   ]
  },
  {
   "cell_type": "code",
   "execution_count": 22,
   "id": "54d94d45",
   "metadata": {},
   "outputs": [
    {
     "name": "stdout",
     "output_type": "stream",
     "text": [
      "Original array [[33 25 23 20]\n",
      " [ 5 61 82 97]\n",
      " [10 10 85 35]\n",
      " [ 2 96 97 47]]\n",
      "After swapping  [[ 2 96 97 47]\n",
      " [ 5 61 82 97]\n",
      " [10 10 85 35]\n",
      " [33 25 23 20]]\n"
     ]
    }
   ],
   "source": [
    "a=np.random.randint(0,100,size=(4,4))\n",
    "print(\"Original array\",a)\n",
    "a[[0,3]]=a[[3,0]]\n",
    "print(\"After swapping \",a)"
   ]
  },
  {
   "cell_type": "code",
   "execution_count": 24,
   "id": "a0de918b",
   "metadata": {},
   "outputs": [
    {
     "name": "stdout",
     "output_type": "stream",
     "text": [
      "[[9 5]\n",
      " [8 2]]\n",
      "[[1 5]\n",
      " [6 9]]\n",
      "[[ 9 25]\n",
      " [48 18]]\n"
     ]
    }
   ],
   "source": [
    "a=np.random.randint(1,10,size=(2,2))\n",
    "b=np.random.randint(1,10,size=(2,2))\n",
    "print(a)\n",
    "print(b)\n",
    "res=a*b\n",
    "print(res)"
   ]
  },
  {
   "cell_type": "code",
   "execution_count": 25,
   "id": "739d89e3",
   "metadata": {},
   "outputs": [
    {
     "name": "stdout",
     "output_type": "stream",
     "text": [
      "entrer the rowsize : 2\n",
      "enter the column size : 2\n",
      "1\n",
      "2\n",
      "3\n",
      "4\n",
      "[[1, 2], [3, 4]]\n",
      "entrer the rowsize : 2\n",
      "enter the column size : 2\n",
      "5\n",
      "6\n",
      "7\n",
      "8\n",
      "[[5, 6], [7, 8]]\n"
     ]
    },
    {
     "ename": "TypeError",
     "evalue": "can't multiply sequence by non-int of type 'list'",
     "output_type": "error",
     "traceback": [
      "\u001b[1;31m---------------------------------------------------------------------------\u001b[0m",
      "\u001b[1;31mTypeError\u001b[0m                                 Traceback (most recent call last)",
      "Cell \u001b[1;32mIn[25], line 21\u001b[0m\n\u001b[0;32m     19\u001b[0m     mat\u001b[38;5;241m.\u001b[39mappend(row)\n\u001b[0;32m     20\u001b[0m \u001b[38;5;28mprint\u001b[39m(mat)\n\u001b[1;32m---> 21\u001b[0m res\u001b[38;5;241m=\u001b[39mm\u001b[38;5;241m*\u001b[39mmat\n\u001b[0;32m     22\u001b[0m \u001b[38;5;28mprint\u001b[39m(res)\n",
      "\u001b[1;31mTypeError\u001b[0m: can't multiply sequence by non-int of type 'list'"
     ]
    }
   ],
   "source": [
    "r=int(input(\"entrer the rowsize : \"))\n",
    "c=int(input(\"enter the column size : \"))\n",
    "m=[]\n",
    "for i in range (r) :\n",
    "    row=[]\n",
    "    for j in range (c) :\n",
    "        a=int(input())\n",
    "        row.append(a)\n",
    "    m.append(row)\n",
    "print(m)\n",
    "ro=int(input(\"entrer the rowsize : \"))\n",
    "co=int(input(\"enter the column size : \"))\n",
    "mat=[]\n",
    "for i in range (r) :\n",
    "    row=[]\n",
    "    for j in range (c) :\n",
    "        b=int(input())\n",
    "        row.append(b)\n",
    "    mat.append(row)\n",
    "print(mat)\n",
    "res=m*mat\n",
    "print(res)"
   ]
  },
  {
   "cell_type": "code",
   "execution_count": null,
   "id": "5f2ddc74",
   "metadata": {},
   "outputs": [],
   "source": []
  }
 ],
 "metadata": {
  "kernelspec": {
   "display_name": "Python 3 (ipykernel)",
   "language": "python",
   "name": "python3"
  },
  "language_info": {
   "codemirror_mode": {
    "name": "ipython",
    "version": 3
   },
   "file_extension": ".py",
   "mimetype": "text/x-python",
   "name": "python",
   "nbconvert_exporter": "python",
   "pygments_lexer": "ipython3",
   "version": "3.11.5"
  }
 },
 "nbformat": 4,
 "nbformat_minor": 5
}
