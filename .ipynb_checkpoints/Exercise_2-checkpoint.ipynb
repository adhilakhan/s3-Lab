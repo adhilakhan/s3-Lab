{
 "cells": [
  {
   "cell_type": "code",
   "execution_count": 8,
   "id": "d1007a83",
   "metadata": {},
   "outputs": [
    {
     "name": "stdout",
     "output_type": "stream",
     "text": [
      "[[1 2 3]\n",
      " [5 6 7]]\n",
      "[[4 7 9]\n",
      " [3 0 8]\n",
      " [1 4 9]]\n"
     ]
    }
   ],
   "source": [
    "import numpy as np\n",
    "m1=np.array([[1,2,3],[5,6,7]])\n",
    "print(m1)\n",
    "m2=np.array([[4,7,9],[3,0,8],[1,4,9]])\n",
    "print(m2)\n",
    "\n",
    "\n"
   ]
  },
  {
   "cell_type": "code",
   "execution_count": 7,
   "id": "192fb8f2",
   "metadata": {},
   "outputs": [
    {
     "name": "stdout",
     "output_type": "stream",
     "text": [
      "[[ 13  19  52]\n",
      " [ 45  63 156]]\n"
     ]
    }
   ],
   "source": [
    "c=np.dot(m1,m2)\n",
    "print(c)"
   ]
  },
  {
   "cell_type": "code",
   "execution_count": 9,
   "id": "28865ef6",
   "metadata": {},
   "outputs": [
    {
     "name": "stdout",
     "output_type": "stream",
     "text": [
      "[[1 5]\n",
      " [2 6]\n",
      " [3 7]]\n",
      "[[4 3 1]\n",
      " [7 0 4]\n",
      " [9 8 9]]\n"
     ]
    }
   ],
   "source": [
    "t1=np.transpose(m1)\n",
    "t2=np.transpose(m2)\n",
    "print(t1)\n",
    "print(t2)\n"
   ]
  },
  {
   "cell_type": "code",
   "execution_count": 10,
   "id": "18a06b35",
   "metadata": {},
   "outputs": [
    {
     "name": "stdout",
     "output_type": "stream",
     "text": [
      "[1 2 3 5 6 7]\n"
     ]
    }
   ],
   "source": [
    "print(m1.flatten())"
   ]
  },
  {
   "cell_type": "code",
   "execution_count": 11,
   "id": "f2d54f43",
   "metadata": {},
   "outputs": [
    {
     "name": "stdout",
     "output_type": "stream",
     "text": [
      "4\n",
      "5\n",
      "6\n",
      "7\n",
      "[[4, 5], [6, 7]]\n"
     ]
    }
   ],
   "source": [
    "mtr=[]\n",
    "for i in range (2) :\n",
    "    row=[]\n",
    "    for j in range (2) :\n",
    "        a=int(input())\n",
    "        row.append(a)\n",
    "    mtr.append(row)\n",
    "print(mtr)"
   ]
  },
  {
   "cell_type": "code",
   "execution_count": 16,
   "id": "5ebda25e",
   "metadata": {},
   "outputs": [
    {
     "name": "stdout",
     "output_type": "stream",
     "text": [
      "entrer the rowsize : 3\n",
      "enter the column size : 2\n",
      "4\n",
      "5\n",
      "6\n",
      "7\n",
      "8\n",
      "9\n",
      "[[4, 5], [6, 7], [8, 9]]\n"
     ]
    }
   ],
   "source": [
    "r=int(input(\"entrer the rowsize : \"))\n",
    "c=int(input(\"enter the column size : \"))\n",
    "m=[]\n",
    "for i in range (r) :\n",
    "    row=[]\n",
    "    for j in range (c) :\n",
    "        a=int(input())\n",
    "        row.append(a)\n",
    "    m.append(row)\n",
    "print(m)"
   ]
  },
  {
   "cell_type": "code",
   "execution_count": 22,
   "id": "71e0d2b3",
   "metadata": {},
   "outputs": [
    {
     "name": "stdout",
     "output_type": "stream",
     "text": [
      "entrer the rowsize : 2\n",
      "enter the column size : 2\n",
      "1 2 3 4\n",
      "[[1 2]\n",
      " [3 4]]\n"
     ]
    }
   ],
   "source": [
    "r=int(input(\"entrer the rowsize : \"))\n",
    "c=int(input(\"enter the column size : \"))\n",
    "a=list(map(int,input().split()))\n",
    "mt=np.array(a).reshape(r,c)\n",
    "print(mt)"
   ]
  },
  {
   "cell_type": "code",
   "execution_count": null,
   "id": "46f964b5",
   "metadata": {},
   "outputs": [],
   "source": []
  }
 ],
 "metadata": {
  "kernelspec": {
   "display_name": "Python 3 (ipykernel)",
   "language": "python",
   "name": "python3"
  },
  "language_info": {
   "codemirror_mode": {
    "name": "ipython",
    "version": 3
   },
   "file_extension": ".py",
   "mimetype": "text/x-python",
   "name": "python",
   "nbconvert_exporter": "python",
   "pygments_lexer": "ipython3",
   "version": "3.11.5"
  }
 },
 "nbformat": 4,
 "nbformat_minor": 5
}
