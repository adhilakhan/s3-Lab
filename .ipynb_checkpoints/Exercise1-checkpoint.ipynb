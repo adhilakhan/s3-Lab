{
 "cells": [
  {
   "cell_type": "code",
   "execution_count": 3,
   "id": "45c77f5b",
   "metadata": {},
   "outputs": [
    {
     "name": "stdout",
     "output_type": "stream",
     "text": [
      "[ 0  1  2  3  4  5  6  7  8  9 10 11 12 13 14 15 16 17 18 19 20]\n",
      "[  0   1   2   3   4   5   6   7   8  -9 -10 -11 -12 -13 -14 -15  16  17\n",
      "  18  19  20]\n"
     ]
    }
   ],
   "source": [
    "import numpy as np\n",
    "a=[]\n",
    "for i in range (21):\n",
    "    a.append(i)\n",
    "vector=np.array(a)\n",
    "print(vector)\n",
    "vector=np.where(((vector>=9) & (vector<=15)),-vector,vector)\n",
    "print (vector)"
   ]
  },
  {
   "cell_type": "code",
   "execution_count": null,
   "id": "b9a30d8b",
   "metadata": {},
   "outputs": [],
   "source": []
  }
 ],
 "metadata": {
  "kernelspec": {
   "display_name": "Python 3 (ipykernel)",
   "language": "python",
   "name": "python3"
  },
  "language_info": {
   "codemirror_mode": {
    "name": "ipython",
    "version": 3
   },
   "file_extension": ".py",
   "mimetype": "text/x-python",
   "name": "python",
   "nbconvert_exporter": "python",
   "pygments_lexer": "ipython3",
   "version": "3.11.5"
  }
 },
 "nbformat": 4,
 "nbformat_minor": 5
}
