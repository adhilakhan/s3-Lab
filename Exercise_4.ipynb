{
 "cells": [
  {
   "cell_type": "code",
   "execution_count": null,
   "id": "57bc6cbe",
   "metadata": {},
   "outputs": [],
   "source": [
    "# list to series"
   ]
  },
  {
   "cell_type": "code",
   "execution_count": null,
   "id": "7a4bf2db",
   "metadata": {},
   "outputs": [],
   "source": [
    "# generating series of date "
   ]
  },
  {
   "cell_type": "code",
   "execution_count": null,
   "id": "f1684a28",
   "metadata": {},
   "outputs": [],
   "source": [
    "# converting dictionary to data frame"
   ]
  },
  {
   "cell_type": "code",
   "execution_count": null,
   "id": "ea1331ca",
   "metadata": {},
   "outputs": [],
   "source": [
    "# conveting 2D list to data frame"
   ]
  },
  {
   "cell_type": "code",
   "execution_count": null,
   "id": "2939fb05",
   "metadata": {},
   "outputs": [],
   "source": []
  }
 ],
 "metadata": {
  "kernelspec": {
   "display_name": "Python 3 (ipykernel)",
   "language": "python",
   "name": "python3"
  },
  "language_info": {
   "codemirror_mode": {
    "name": "ipython",
    "version": 3
   },
   "file_extension": ".py",
   "mimetype": "text/x-python",
   "name": "python",
   "nbconvert_exporter": "python",
   "pygments_lexer": "ipython3",
   "version": "3.11.5"
  }
 },
 "nbformat": 4,
 "nbformat_minor": 5
}
